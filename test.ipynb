{
 "cells": [
  {
   "cell_type": "code",
   "execution_count": 8,
   "metadata": {
    "collapsed": true
   },
   "outputs": [],
   "source": [
    "import sys\n",
    "import pandas as pd\n",
    "sys.path.insert(0, 'preprocess')"
   ]
  },
  {
   "cell_type": "code",
   "execution_count": 4,
   "metadata": {},
   "outputs": [],
   "source": [
    "import condense_csv"
   ]
  },
  {
   "cell_type": "code",
   "execution_count": 9,
   "metadata": {},
   "outputs": [
    {
     "name": "stdout",
     "output_type": "stream",
     "text": [
      "memory used before preprocess:  19.00808\n",
      "\n",
      "date time size before: 3.9798799999999996\n",
      "date time size after:  0.47528 \n",
      "\n",
      "converting funder                         size:  3.86\t->\t 0.33\n",
      "converting installer                      size:  3.64\t->\t 0.34\n",
      "converting basin                          size:  4.03\t->\t 0.06\n",
      "converting subvillage                     size:  3.85\t->\t 2.03\n",
      "converting region                         size:  3.78\t->\t 0.06\n",
      "converting lga                            size:  3.83\t->\t 0.07\n",
      "converting ward                           size:  3.83\t->\t 0.34\n",
      "converting public_meeting                 size:  2.1\t->\t 0.06\n",
      "converting recorded_by                    size:  4.75\t->\t 0.06\n",
      "converting scheme_management              size:  3.55\t->\t 0.06\n",
      "converting scheme_name                    size:  3.15\t->\t 0.4\n",
      "converting permit                         size:  2.06\t->\t 0.06\n",
      "converting extraction_type                size:  3.84\t->\t 0.06\n",
      "converting extraction_type_group          size:  3.85\t->\t 0.06\n",
      "converting extraction_type_class          size:  3.84\t->\t 0.06\n",
      "converting management                     size:  3.64\t->\t 0.06\n",
      "converting management_group               size:  3.97\t->\t 0.06\n",
      "converting payment                        size:  4.02\t->\t 0.06\n",
      "converting payment_type                   size:  3.89\t->\t 0.06\n",
      "converting water_quality                  size:  3.64\t->\t 0.06\n",
      "converting quality_group                  size:  3.64\t->\t 0.06\n",
      "converting quantity                       size:  3.82\t->\t 0.06\n",
      "converting quantity_group                 size:  3.82\t->\t 0.06\n",
      "converting source                         size:  3.92\t->\t 0.06\n",
      "converting source_type                    size:  3.94\t->\t 0.06\n",
      "converting source_class                   size:  3.98\t->\t 0.06\n",
      "converting waterpoint_type                size:  4.27\t->\t 0.06\n",
      "converting waterpoint_type_group          size:  4.21\t->\t 0.06\n",
      "\n",
      "downcasting integers for: ['id', 'gps_height', 'num_private', 'region_code', 'district_code', 'population', 'construction_year'] \n",
      "\n",
      "reduced memory usage for:   id                  from     0.48 to     0.24\n",
      "reduced memory usage for:   gps_height          from     0.48 to     0.12\n",
      "reduced memory usage for:   num_private         from     0.48 to     0.12\n",
      "reduced memory usage for:   region_code         from     0.48 to     0.06\n",
      "reduced memory usage for:   district_code       from     0.48 to     0.06\n",
      "reduced memory usage for:   population          from     0.48 to     0.12\n",
      "reduced memory usage for:   construction_year   from     0.48 to     0.12\n",
      "\n",
      "available RAM: svmem(total=8589934592, available=1951375360, percent=77.3, used=6081032192, free=583856128, active=2576531456, inactive=1367519232, wired=2136981504)\n",
      "available RAM: svmem(total=8589934592, available=1948483584, percent=77.3, used=6084710400, free=580964352, active=2576531456, inactive=1367519232, wired=2140659712)\n",
      "\n",
      "memory used after preprocess:  6.3896\n"
     ]
    }
   ],
   "source": [
    "train_X = pd.read_csv('data/train.csv')\n",
    "train_y = pd.read_csv('data/train_labels.csv')  \n",
    "train_X = condense_csv.compress_X(train_X)\n",
    "train_y = condense_csv.compress_labels(train_y)"
   ]
  },
  {
   "cell_type": "code",
   "execution_count": null,
   "metadata": {
    "collapsed": true
   },
   "outputs": [],
   "source": []
  }
 ],
 "metadata": {
  "kernelspec": {
   "display_name": "Python 3",
   "language": "python",
   "name": "python3"
  },
  "language_info": {
   "codemirror_mode": {
    "name": "ipython",
    "version": 3
   },
   "file_extension": ".py",
   "mimetype": "text/x-python",
   "name": "python",
   "nbconvert_exporter": "python",
   "pygments_lexer": "ipython3",
   "version": "3.6.3"
  },
  "toc": {
   "base_numbering": 1,
   "nav_menu": {},
   "number_sections": true,
   "sideBar": true,
   "skip_h1_title": false,
   "title_cell": "Table of Contents",
   "title_sidebar": "Contents",
   "toc_cell": false,
   "toc_position": {},
   "toc_section_display": true,
   "toc_window_display": false
  }
 },
 "nbformat": 4,
 "nbformat_minor": 2
}
